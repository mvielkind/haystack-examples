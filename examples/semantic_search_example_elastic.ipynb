{
 "cells": [
  {
   "cell_type": "markdown",
   "source": [
    "# Semantic Search with Haystack and Elastic\n",
    "\n",
    "This notebook will demonstrate how you can use Haystack to upload a set of documents to an Elastic index and build a query pipeline to retrieve documents from the document store.\n",
    "\n",
    "In this notebook you will:\n",
    "- Create an Elastic document store in Haystack\n",
    "- Generate text embeddings for documents in your document store\n",
    "- Build a search pipeline to retrieve documents\n",
    "- How to incrementally add documents to the document store"
   ],
   "metadata": {
    "collapsed": false,
    "pycharm": {
     "name": "#%% md\n"
    }
   }
  },
  {
   "cell_type": "code",
   "execution_count": 1,
   "outputs": [
    {
     "name": "stderr",
     "output_type": "stream",
     "text": [
      "INFO - haystack.modeling.model.optimization -  apex not found, won't use it. See https://nvidia.github.io/apex/\n",
      "ERROR - root -  Failed to import 'magic' (from 'python-magic' and 'python-magic-bin' on Windows). FileTypeClassifier will not perform mimetype detection on extensionless files. Please make sure the necessary OS libraries are installed if you need this functionality.\n"
     ]
    }
   ],
   "source": [
    "from haystack.utils import launch_es\n",
    "\n",
    "launch_es()"
   ],
   "metadata": {
    "collapsed": false,
    "pycharm": {
     "name": "#%%\n"
    }
   }
  },
  {
   "cell_type": "code",
   "execution_count": 2,
   "outputs": [],
   "source": [
    "from haystack.document_stores import ElasticsearchDocumentStore\n",
    "\n",
    "# Connect to the Elastic instance and create a document store.\n",
    "document_store = ElasticsearchDocumentStore(\n",
    "    host=\"localhost\",\n",
    "    username=\"\",\n",
    "    password=\"\",\n",
    "    index=\"document\",\n",
    "    create_index=True,\n",
    "    similarity=\"dot_product\"\n",
    ")"
   ],
   "metadata": {
    "collapsed": false,
    "pycharm": {
     "name": "#%%\n"
    }
   }
  },
  {
   "cell_type": "code",
   "execution_count": 3,
   "outputs": [
    {
     "name": "stderr",
     "output_type": "stream",
     "text": [
      "INFO - haystack.utils.import_utils -  Found data stored in `data/article_txt_got`. Delete this first if you really want to fetch new data.\n",
      "INFO - haystack.utils.preprocessing -  Converting data/article_txt_got/145_Elio_M._García_Jr._and_Linda_Antonsson.txt\n",
      "INFO - haystack.utils.preprocessing -  Converting data/article_txt_got/368_Jaime_Lannister.txt\n",
      "INFO - haystack.utils.preprocessing -  Converting data/article_txt_got/133_Game_of_Thrones__Season_5__soundtrack_.txt\n",
      "INFO - haystack.utils.preprocessing -  Converting data/article_txt_got/515_The_Door__Game_of_Thrones_.txt\n",
      "INFO - haystack.utils.preprocessing -  Converting data/article_txt_got/119_Walk_of_Punishment.txt\n",
      "INFO - haystack.utils.preprocessing -  Converting data/article_txt_got/369_Samwell_Tarly.txt\n",
      "INFO - haystack.utils.preprocessing -  Converting data/article_txt_got/356_Tales_of_Dunk_and_Egg.txt\n",
      "INFO - haystack.utils.preprocessing -  Converting data/article_txt_got/195_World_of_A_Song_of_Ice_and_Fire.txt\n",
      "INFO - haystack.utils.preprocessing -  Converting data/article_txt_got/25_Game_of_Thrones__Season_2__soundtrack_.txt\n",
      "INFO - haystack.utils.preprocessing -  Converting data/article_txt_got/460_Battle_of_the_Bastards.txt\n",
      "INFO - haystack.utils.preprocessing -  Converting data/article_txt_got/511_After_the_Thrones.txt\n",
      "INFO - haystack.utils.preprocessing -  Converting data/article_txt_got/69_The_Red_Woman.txt\n",
      "INFO - haystack.utils.preprocessing -  Converting data/article_txt_got/407_The_Long_Night__Game_of_Thrones_.txt\n",
      "INFO - haystack.utils.preprocessing -  Converting data/article_txt_got/201_A_Game_of_Thrones__card_game_.txt\n",
      "INFO - haystack.utils.preprocessing -  Converting data/article_txt_got/97_Tyrion_Lannister.txt\n",
      "INFO - haystack.utils.preprocessing -  Converting data/article_txt_got/401_Power_Is_Power.txt\n",
      "INFO - haystack.utils.preprocessing -  Converting data/article_txt_got/51_Iron_Throne__A_Song_of_Ice_and_Fire_.txt\n",
      "INFO - haystack.utils.preprocessing -  Converting data/article_txt_got/20_Light_of_the_Seven.txt\n",
      "INFO - haystack.utils.preprocessing -  Converting data/article_txt_got/359_Kill_the_Boy.txt\n",
      "INFO - haystack.utils.preprocessing -  Converting data/article_txt_got/224_The_Night_Lands.txt\n",
      "INFO - haystack.utils.preprocessing -  Converting data/article_txt_got/8_Eastwatch.txt\n",
      "INFO - haystack.utils.preprocessing -  Converting data/article_txt_got/469_Outline_of_A_Song_of_Ice_and_Fire_franchise.txt\n",
      "INFO - haystack.utils.preprocessing -  Converting data/article_txt_got/402_A_Knight_of_the_Seven_Kingdoms__Game_of_Thrones_.txt\n",
      "INFO - haystack.utils.preprocessing -  Converting data/article_txt_got/11_The_Dragon_and_the_Wolf.txt\n",
      "INFO - haystack.utils.preprocessing -  Converting data/article_txt_got/53_The_Lion_and_the_Rose.txt\n",
      "INFO - haystack.utils.preprocessing -  Converting data/article_txt_got/136_Game_of_Thrones__Season_8__soundtrack_.txt\n",
      "INFO - haystack.utils.preprocessing -  Converting data/article_txt_got/439_Melisandre.txt\n",
      "INFO - haystack.utils.preprocessing -  Converting data/article_txt_got/485_Oathkeeper.txt\n",
      "INFO - haystack.utils.preprocessing -  Converting data/article_txt_got/26_Game_of_Thrones__Season_3__soundtrack_.txt\n",
      "INFO - haystack.utils.preprocessing -  Converting data/article_txt_got/329_Robert_Baratheon.txt\n",
      "INFO - haystack.utils.preprocessing -  Converting data/article_txt_got/443_The_Kingsroad.txt\n",
      "INFO - haystack.utils.preprocessing -  Converting data/article_txt_got/198_A_Clash_of_Kings.txt\n",
      "INFO - haystack.utils.preprocessing -  Converting data/article_txt_got/146_The_Sons_of_the_Dragon.txt\n",
      "INFO - haystack.utils.preprocessing -  Converting data/article_txt_got/68_The_Gift__Game_of_Thrones_.txt\n",
      "INFO - haystack.utils.preprocessing -  Converting data/article_txt_got/311_Game_of_Thrones__season_7_.txt\n",
      "INFO - haystack.utils.preprocessing -  Converting data/article_txt_got/482_Petyr_Baelish.txt\n",
      "INFO - haystack.utils.preprocessing -  Converting data/article_txt_got/7_The_Spoils_of_War__Game_of_Thrones_.txt\n",
      "INFO - haystack.utils.preprocessing -  Converting data/article_txt_got/332_Sansa_Stark.txt\n",
      "INFO - haystack.utils.preprocessing -  Converting data/article_txt_got/30_List_of_A_Song_of_Ice_and_Fire_characters.txt\n",
      "INFO - haystack.utils.preprocessing -  Converting data/article_txt_got/55_Breaker_of_Chains.txt\n",
      "INFO - haystack.utils.preprocessing -  Converting data/article_txt_got/342_Theon_Greyjoy.txt\n",
      "INFO - haystack.utils.preprocessing -  Converting data/article_txt_got/197_A_Game_of_Thrones.txt\n",
      "INFO - haystack.utils.preprocessing -  Converting data/article_txt_got/52_Catch_the_Throne.txt\n",
      "INFO - haystack.utils.preprocessing -  Converting data/article_txt_got/194_A_Song_of_Ice_and_Fire.txt\n",
      "INFO - haystack.utils.preprocessing -  Converting data/article_txt_got/273_High_Sparrow.txt\n",
      "INFO - haystack.utils.preprocessing -  Converting data/article_txt_got/454_Music_of_Game_of_Thrones.txt\n",
      "INFO - haystack.utils.preprocessing -  Converting data/article_txt_got/475_A_Game_of_Thrones__role-playing_game_.txt\n",
      "INFO - haystack.utils.preprocessing -  Converting data/article_txt_got/446_A_Golden_Crown.txt\n",
      "INFO - haystack.utils.preprocessing -  Converting data/article_txt_got/360_List_of_Game_of_Thrones_episodes.txt\n",
      "INFO - haystack.utils.preprocessing -  Converting data/article_txt_got/207_Jon_Snow__character_.txt\n",
      "INFO - haystack.utils.preprocessing -  Converting data/article_txt_got/44_Daenerys_Targaryen.txt\n",
      "INFO - haystack.utils.preprocessing -  Converting data/article_txt_got/160_Viserys_Targaryen.txt\n",
      "INFO - haystack.utils.preprocessing -  Converting data/article_txt_got/395_Game_of_Thrones__season_5_.txt\n",
      "INFO - haystack.utils.preprocessing -  Converting data/article_txt_got/78_The_Rains_of_Castamere.txt\n",
      "INFO - haystack.utils.preprocessing -  Converting data/article_txt_got/99_A_Song_of_Ass_and_Fire.txt\n",
      "INFO - haystack.utils.preprocessing -  Converting data/article_txt_got/411_The_Iron_Throne__Game_of_Thrones_.txt\n",
      "INFO - haystack.utils.preprocessing -  Converting data/article_txt_got/74_The_Prince_of_Winterfell.txt\n",
      "INFO - haystack.utils.preprocessing -  Converting data/article_txt_got/233_Myrcella_Baratheon.txt\n",
      "INFO - haystack.utils.preprocessing -  Converting data/article_txt_got/445_The_Wolf_and_the_Lion.txt\n",
      "INFO - haystack.utils.preprocessing -  Converting data/article_txt_got/77_Game_of_Thrones_Ascent.txt\n",
      "INFO - haystack.utils.preprocessing -  Converting data/article_txt_got/420_Blood_of_My_Blood.txt\n",
      "INFO - haystack.utils.preprocessing -  Converting data/article_txt_got/148_Game_of_Thrones__Winter_Is_Coming.txt\n",
      "INFO - haystack.utils.preprocessing -  Converting data/article_txt_got/39_Renly_Baratheon.txt\n",
      "INFO - haystack.utils.preprocessing -  Converting data/article_txt_got/22_The_Rains_of_Castamere__song_.txt\n",
      "INFO - haystack.utils.preprocessing -  Converting data/article_txt_got/9_Game_of_Thrones_Tapestry.txt\n",
      "INFO - haystack.utils.preprocessing -  Converting data/article_txt_got/345_A_Game_of_Thrones__comics_.txt\n",
      "INFO - haystack.utils.preprocessing -  Converting data/article_txt_got/424_Night_King.txt\n",
      "INFO - haystack.utils.preprocessing -  Converting data/article_txt_got/435_White_Walker.txt\n",
      "INFO - haystack.utils.preprocessing -  Converting data/article_txt_got/304_Hardhome.txt\n",
      "INFO - haystack.utils.preprocessing -  Converting data/article_txt_got/12_Fire.txt\n",
      "INFO - haystack.utils.preprocessing -  Converting data/article_txt_got/102_The_Princess_and_the_Queen.txt\n",
      "INFO - haystack.utils.preprocessing -  Converting data/article_txt_got/444_Cripples__Bastards__and_Broken_Things.txt\n",
      "INFO - haystack.utils.preprocessing -  Converting data/article_txt_got/121_The_Bear_and_the_Maiden_Fair.txt\n",
      "INFO - haystack.utils.preprocessing -  Converting data/article_txt_got/461_The_Winds_of_Winter__Game_of_Thrones_.txt\n",
      "INFO - haystack.utils.preprocessing -  Converting data/article_txt_got/362_Winter_Is_Coming.txt\n",
      "INFO - haystack.utils.preprocessing -  Converting data/article_txt_got/504_List_of_A_Song_of_Ice_and_Fire_video_games.txt\n",
      "INFO - haystack.utils.preprocessing -  Converting data/article_txt_got/101_Titties_and_Dragons.txt\n",
      "INFO - haystack.utils.preprocessing -  Converting data/article_txt_got/379_Davos_Seaworth.txt\n",
      "INFO - haystack.utils.preprocessing -  Converting data/article_txt_got/98_Black_Friday__South_Park_.txt\n",
      "INFO - haystack.utils.preprocessing -  Converting data/article_txt_got/86_Game_of_Thrones__season_4_.txt\n",
      "INFO - haystack.utils.preprocessing -  Converting data/article_txt_got/10_Beyond_the_Wall__Game_of_Thrones_.txt\n",
      "INFO - haystack.utils.preprocessing -  Converting data/article_txt_got/508_A_Game_of_Thrones__Second_Edition__card_game_.txt\n",
      "INFO - haystack.utils.preprocessing -  Converting data/article_txt_got/340_Roose_Bolton.txt\n",
      "INFO - haystack.utils.preprocessing -  Converting data/article_txt_got/28_Jorah_Mormont.txt\n",
      "INFO - haystack.utils.preprocessing -  Converting data/article_txt_got/396_Game_of_Thrones__season_6_.txt\n",
      "INFO - haystack.utils.preprocessing -  Converting data/article_txt_got/209_Mockingbird__Game_of_Thrones_.txt\n",
      "INFO - haystack.utils.preprocessing -  Converting data/article_txt_got/341_Ned_Stark.txt\n",
      "INFO - haystack.utils.preprocessing -  Converting data/article_txt_got/57_The_Laws_of_Gods_and_Men.txt\n",
      "INFO - haystack.utils.preprocessing -  Converting data/article_txt_got/37_Joffrey_Baratheon.txt\n",
      "INFO - haystack.utils.preprocessing -  Converting data/article_txt_got/371_Cersei_Lannister.txt\n",
      "INFO - haystack.utils.preprocessing -  Converting data/article_txt_got/67_Unbowed__Unbent__Unbroken.txt\n",
      "INFO - haystack.utils.preprocessing -  Converting data/article_txt_got/481_Sandor_Clegane.txt\n",
      "INFO - haystack.utils.preprocessing -  Converting data/article_txt_got/135_Game_of_Thrones__Season_7__soundtrack_.txt\n",
      "INFO - haystack.utils.preprocessing -  Converting data/article_txt_got/425_No_One__Game_of_Thrones_.txt\n",
      "INFO - haystack.utils.preprocessing -  Converting data/article_txt_got/501_Khal_Drogo.txt\n",
      "INFO - haystack.utils.preprocessing -  Converting data/article_txt_got/447_You_Win_or_You_Die.txt\n",
      "INFO - haystack.utils.preprocessing -  Converting data/article_txt_got/228_Souad_Faress.txt\n",
      "INFO - haystack.utils.preprocessing -  Converting data/article_txt_got/54_Two_Swords__Game_of_Thrones_.txt\n",
      "INFO - haystack.utils.preprocessing -  Converting data/article_txt_got/76_Valar_Morghulis.txt\n",
      "INFO - haystack.utils.preprocessing -  Converting data/article_txt_got/134_Game_of_Thrones__Season_6__soundtrack_.txt\n",
      "INFO - haystack.utils.preprocessing -  Converting data/article_txt_got/306_The_Dance_of_Dragons.txt\n",
      "INFO - haystack.utils.preprocessing -  Converting data/article_txt_got/27_Game_of_Thrones__Season_4__soundtrack_.txt\n",
      "INFO - haystack.utils.preprocessing -  Converting data/article_txt_got/24_Game_of_Thrones__Season_1__soundtrack_.txt\n",
      "INFO - haystack.utils.preprocessing -  Converting data/article_txt_got/199_A_Storm_of_Swords.txt\n",
      "INFO - haystack.utils.preprocessing -  Converting data/article_txt_got/310_Mother_s_Mercy.txt\n",
      "INFO - haystack.utils.preprocessing -  Converting data/article_txt_got/452_Fire_and_Blood__Game_of_Thrones_.txt\n",
      "INFO - haystack.utils.preprocessing -  Converting data/article_txt_got/262_Gilly__character_.txt\n",
      "INFO - haystack.utils.preprocessing -  Converting data/article_txt_got/202_A_Feast_for_Crows.txt\n",
      "INFO - haystack.utils.preprocessing -  Converting data/article_txt_got/449_The_Pointy_End.txt\n",
      "INFO - haystack.utils.preprocessing -  Converting data/article_txt_got/85_Game_of_Thrones__Seven_Kingdoms.txt\n",
      "INFO - haystack.utils.preprocessing -  Converting data/article_txt_got/347_Game_of_Thrones__season_2_.txt\n",
      "INFO - haystack.utils.preprocessing -  Converting data/article_txt_got/120_And_Now_His_Watch_Is_Ended.txt\n",
      "INFO - haystack.utils.preprocessing -  Converting data/article_txt_got/217_The_Rogue_Prince.txt\n",
      "INFO - haystack.utils.preprocessing -  Converting data/article_txt_got/33_David_Benioff.txt\n",
      "INFO - haystack.utils.preprocessing -  Converting data/article_txt_got/218_Olenna_Tyrell.txt\n",
      "INFO - haystack.utils.preprocessing -  Converting data/article_txt_got/0_Game_of_Thrones__season_8_.txt\n",
      "INFO - haystack.utils.preprocessing -  Converting data/article_txt_got/474_Bronn__character_.txt\n",
      "INFO - haystack.utils.preprocessing -  Converting data/article_txt_got/456_Works_based_on_A_Song_of_Ice_and_Fire.txt\n",
      "INFO - haystack.utils.preprocessing -  Converting data/article_txt_got/154_Margaery_Tyrell.txt\n",
      "INFO - haystack.utils.preprocessing -  Converting data/article_txt_got/331_Bran_Stark.txt\n",
      "INFO - haystack.utils.preprocessing -  Converting data/article_txt_got/480_Varys.txt\n",
      "INFO - haystack.utils.preprocessing -  Converting data/article_txt_got/330_Oberyn_Martell.txt\n",
      "INFO - haystack.utils.preprocessing -  Converting data/article_txt_got/408_The_Last_of_the_Starks.txt\n",
      "INFO - haystack.utils.preprocessing -  Converting data/article_txt_got/394_Game_of_Thrones__2014_video_game_.txt\n",
      "INFO - haystack.utils.preprocessing -  Converting data/article_txt_got/346_Ygritte.txt\n",
      "INFO - haystack.utils.preprocessing -  Converting data/article_txt_got/348_The_Winds_of_Winter.txt\n",
      "INFO - haystack.utils.preprocessing -  Converting data/article_txt_got/131_Mhysa.txt\n",
      "INFO - haystack.utils.preprocessing -  Converting data/article_txt_got/87_Valar_Dohaeris.txt\n",
      "INFO - haystack.utils.preprocessing -  Converting data/article_txt_got/1_Dragonstone__Game_of_Thrones_episode_.txt\n",
      "INFO - haystack.utils.preprocessing -  Converting data/article_txt_got/400_Winterfell__Game_of_Thrones_episode_.txt\n",
      "INFO - haystack.utils.preprocessing -  Converting data/article_txt_got/373_Tywin_Lannister.txt\n",
      "INFO - haystack.utils.preprocessing -  Converting data/article_txt_got/75_Blackwater__Game_of_Thrones_.txt\n",
      "INFO - haystack.utils.preprocessing -  Converting data/article_txt_got/378_A_Game_of_Thrones__board_game_.txt\n",
      "INFO - haystack.utils.preprocessing -  Converting data/article_txt_got/512_Home__Game_of_Thrones_.txt\n",
      "INFO - haystack.utils.preprocessing -  Converting data/article_txt_got/80_A_Song_of_Ice_and_Fire_fandom.txt\n",
      "INFO - haystack.utils.preprocessing -  Converting data/article_txt_got/229_Game_of_Thrones.txt\n",
      "INFO - haystack.utils.preprocessing -  Converting data/article_txt_got/56_First_of_His_Name.txt\n",
      "INFO - haystack.utils.preprocessing -  Converting data/article_txt_got/263_Tormund_Giantsbane.txt\n",
      "INFO - haystack.utils.preprocessing -  Converting data/article_txt_got/513_Oathbreaker__Game_of_Thrones_.txt\n",
      "INFO - haystack.utils.preprocessing -  Converting data/article_txt_got/487_Ramsay_Bolton.txt\n",
      "INFO - haystack.utils.preprocessing -  Converting data/article_txt_got/365_A_Song_of_Ice_and_Fire_Roleplaying.txt\n",
      "INFO - haystack.utils.preprocessing -  Converting data/article_txt_got/73_A_Man_Without_Honor.txt\n",
      "INFO - haystack.utils.preprocessing -  Converting data/article_txt_got/208_Robb_Stark.txt\n",
      "INFO - haystack.utils.preprocessing -  Converting data/article_txt_got/343_Catelyn_Stark.txt\n",
      "INFO - haystack.utils.preprocessing -  Converting data/article_txt_got/232_Tommen_Baratheon.txt\n",
      "INFO - haystack.utils.preprocessing -  Converting data/article_txt_got/43_Arya_Stark.txt\n",
      "INFO - haystack.utils.preprocessing -  Converting data/article_txt_got/84_List_of_awards_and_nominations_received_by_Game_of_Thrones.txt\n",
      "INFO - haystack.utils.preprocessing -  Converting data/article_txt_got/450_Baelor.txt\n",
      "INFO - haystack.utils.preprocessing -  Converting data/article_txt_got/399_For_the_Throne__Music_Inspired_by_the_HBO_Series_Game_of_Thrones.txt\n",
      "INFO - haystack.utils.preprocessing -  Converting data/article_txt_got/40_Stannis_Baratheon.txt\n",
      "INFO - haystack.utils.preprocessing -  Converting data/article_txt_got/495_Hodor.txt\n",
      "INFO - haystack.utils.preprocessing -  Converting data/article_txt_got/23_Game_of_Thrones_Live_Concert_Experience.txt\n",
      "INFO - haystack.utils.preprocessing -  Converting data/article_txt_got/130_Game_of_Thrones_title_sequence.txt\n",
      "INFO - haystack.utils.preprocessing -  Converting data/article_txt_got/317_The_Broken_Man.txt\n",
      "INFO - haystack.utils.preprocessing -  Converting data/article_txt_got/488_Brienne_of_Tarth.txt\n",
      "INFO - haystack.utils.preprocessing -  Converting data/article_txt_got/21_The_Bear_and_the_Maiden_Fair__song_.txt\n",
      "INFO - haystack.utils.preprocessing -  Converting data/article_txt_got/211_The_Watchers_on_the_Wall.txt\n",
      "INFO - haystack.utils.preprocessing -  Converting data/article_txt_got/453_Game_of_Thrones__2012_video_game_.txt\n",
      "INFO - haystack.utils.preprocessing -  Converting data/article_txt_got/442_Game_of_Thrones__season_1_.txt\n",
      "INFO - haystack.utils.preprocessing -  Converting data/article_txt_got/410_The_Bells__Game_of_Thrones_.txt\n",
      "INFO - haystack.utils.preprocessing -  Converting data/article_txt_got/213_Valyrian_languages.txt\n",
      "INFO - haystack.utils.preprocessing -  Converting data/article_txt_got/126_Kissed_by_Fire.txt\n",
      "INFO - haystack.utils.preprocessing -  Converting data/article_txt_got/212_The_Children__Game_of_Thrones_.txt\n",
      "INFO - haystack.utils.preprocessing -  Converting data/article_txt_got/299_Rani_Mahal__TV_series_.txt\n",
      "INFO - haystack.utils.preprocessing -  Converting data/article_txt_got/214_Dothraki_language.txt\n",
      "INFO - haystack.utils.preprocessing -  Converting data/article_txt_got/506_Game_of_Thrones_Theme.txt\n",
      "INFO - haystack.utils.preprocessing -  Converting data/article_txt_got/367_Gregor_Clegane.txt\n",
      "INFO - haystack.utils.preprocessing -  Converting data/article_txt_got/151_Ellaria_Sand.txt\n",
      "INFO - haystack.utils.preprocessing -  Converting data/article_txt_got/191_Gendry.txt\n",
      "INFO - haystack.utils.preprocessing -  Converting data/article_txt_got/79_Thronecast.txt\n",
      "INFO - haystack.utils.preprocessing -  Converting data/article_txt_got/477_A_Dance_with_Dragons.txt\n",
      "INFO - haystack.utils.preprocessing -  Converting data/article_txt_got/193_Lord_Snow.txt\n",
      "INFO - haystack.utils.preprocessing -  Converting data/article_txt_got/514_Book_of_the_Stranger.txt\n",
      "INFO - haystack.utils.preprocessing -  Converting data/article_txt_got/334_Rickon_Stark.txt\n",
      "INFO - haystack.utils.preprocessing -  Converting data/article_txt_got/210_The_Mountain_and_the_Viper.txt\n",
      "INFO - haystack.utils.preprocessing -  Converting data/article_txt_got/127_The_Climb__Game_of_Thrones_.txt\n",
      "INFO - haystack.utils.preprocessing -  Converting data/article_txt_got/3_The_Queen_s_Justice.txt\n",
      "INFO - haystack.utils.preprocessing -  Converting data/article_txt_got/403_Jenny_of_Oldstones.txt\n",
      "INFO - haystack.utils.preprocessing -  Converting data/article_txt_got/129_Second_Sons.txt\n",
      "INFO - haystack.utils.preprocessing -  Converting data/article_txt_got/349_List_of_Game_of_Thrones_characters.txt\n",
      "INFO - haystack.utils.preprocessing -  Converting data/article_txt_got/118_Dark_Wings__Dark_Words.txt\n",
      "INFO - haystack.utils.preprocessing -  Converting data/article_txt_got/358_A_Game_of_Thrones__Genesis.txt\n",
      "INFO - haystack.utils.preprocessing -  Converting data/article_txt_got/2_Stormborn.txt\n"
     ]
    }
   ],
   "source": [
    "# Download Game of Thrones data and preprocess the text.\n",
    "from haystack.utils import clean_wiki_text, fetch_archive_from_http\n",
    "from haystack.utils.preprocessing import convert_files_to_docs\n",
    "\n",
    "# Read data from S3. Write text to the specified directory.\n",
    "doc_dir = \"data/article_txt_got\"\n",
    "s3_url = \"https://s3.eu-central-1.amazonaws.com/deepset.ai-farm-qa/datasets/documents/wiki_gameofthrones_txt.zip\"\n",
    "fetch_archive_from_http(url=s3_url, output_dir=doc_dir)\n",
    "\n",
    "# Convert files to documents.\n",
    "docs = convert_files_to_docs(dir_path=doc_dir, clean_func=clean_wiki_text)"
   ],
   "metadata": {
    "collapsed": false,
    "pycharm": {
     "name": "#%%\n"
    }
   }
  },
  {
   "cell_type": "code",
   "execution_count": 4,
   "outputs": [
    {
     "data": {
      "text/plain": "<Document: {'content': \"Linda Antonsson and Elio García at Archipelacon on June 28, 2015.\\n'''Elio Miguel García Jr.''' (born May 6, 1978) and '''Linda Maria Antonsson''' (born November 18, 1974) are authors known for their contributions and expertise in the ''A Song of Ice and Fire'' series by George R. R. Martin, co-writing in 2014 with Martin ''The World of Ice & Fire'', a companion book for the series. They are also the founders of the fansite Westeros.org, one of the earliest fan websites for ''A Song of Ice and Fire''.\", 'content_type': 'text', 'score': None, 'meta': {'name': '145_Elio_M._García_Jr._and_Linda_Antonsson.txt'}, 'embedding': None, 'id': '41655cc804bb07b1569f3118ce70e05'}>"
     },
     "execution_count": 4,
     "metadata": {},
     "output_type": "execute_result"
    }
   ],
   "source": [
    "# View what a document looks like.\n",
    "docs[0]"
   ],
   "metadata": {
    "collapsed": false,
    "pycharm": {
     "name": "#%%\n"
    }
   }
  },
  {
   "cell_type": "code",
   "execution_count": 5,
   "outputs": [],
   "source": [
    "# Write documents to the datastore.\n",
    "# All but 10 documents will be stored. We'll use the remaining 10 later.\n",
    "document_store.write_documents(docs[:-10])"
   ],
   "metadata": {
    "collapsed": false,
    "pycharm": {
     "name": "#%%\n"
    }
   }
  },
  {
   "cell_type": "code",
   "execution_count": 6,
   "outputs": [
    {
     "name": "stderr",
     "output_type": "stream",
     "text": [
      "INFO - haystack.modeling.utils -  Using devices: CPU\n",
      "INFO - haystack.modeling.utils -  Number of GPUs: 0\n",
      "INFO - haystack.modeling.model.language_model -  LOADING MODEL\n",
      "INFO - haystack.modeling.model.language_model -  =============\n",
      "INFO - haystack.modeling.model.language_model -  Could not find facebook/dpr-question_encoder-single-nq-base locally.\n",
      "INFO - haystack.modeling.model.language_model -  Looking on Transformers Model Hub (in local cache and online)...\n",
      "INFO - haystack.modeling.model.language_model -  Loaded facebook/dpr-question_encoder-single-nq-base\n",
      "The tokenizer class you load from this checkpoint is not the same type as the class this function is called from. It may result in unexpected tokenization. \n",
      "The tokenizer class you load from this checkpoint is 'DPRQuestionEncoderTokenizer'. \n",
      "The class this function is called from is 'DPRContextEncoderTokenizerFast'.\n",
      "INFO - haystack.modeling.model.language_model -  LOADING MODEL\n",
      "INFO - haystack.modeling.model.language_model -  =============\n",
      "INFO - haystack.modeling.model.language_model -  Could not find facebook/dpr-ctx_encoder-single-nq-base locally.\n",
      "INFO - haystack.modeling.model.language_model -  Looking on Transformers Model Hub (in local cache and online)...\n",
      "INFO - haystack.modeling.model.language_model -  Loaded facebook/dpr-ctx_encoder-single-nq-base\n"
     ]
    }
   ],
   "source": [
    "# Define the retriever.\n",
    "from haystack.nodes import DensePassageRetriever\n",
    "\n",
    "retriever = DensePassageRetriever(\n",
    "    document_store=document_store,\n",
    "    query_embedding_model=\"facebook/dpr-question_encoder-single-nq-base\",\n",
    "    passage_embedding_model=\"facebook/dpr-ctx_encoder-single-nq-base\"\n",
    ")"
   ],
   "metadata": {
    "collapsed": false,
    "pycharm": {
     "name": "#%%\n"
    }
   }
  },
  {
   "cell_type": "code",
   "execution_count": 7,
   "outputs": [
    {
     "name": "stderr",
     "output_type": "stream",
     "text": [
      "INFO - haystack.document_stores.elasticsearch -  Updating embeddings for all 2357 docs ...\n"
     ]
    },
    {
     "data": {
      "text/plain": "Updating embeddings:   0%|          | 0/2357 [00:00<?, ? Docs/s]",
      "application/vnd.jupyter.widget-view+json": {
       "version_major": 2,
       "version_minor": 0,
       "model_id": "3570c47fd502454ead78c6393ccd0ec7"
      }
     },
     "metadata": {},
     "output_type": "display_data"
    },
    {
     "data": {
      "text/plain": "Create embeddings:   0%|          | 0/2368 [00:00<?, ? Docs/s]",
      "application/vnd.jupyter.widget-view+json": {
       "version_major": 2,
       "version_minor": 0,
       "model_id": "1db0ddaede5e42fd8e85870a63aa5f41"
      }
     },
     "metadata": {},
     "output_type": "display_data"
    }
   ],
   "source": [
    "# Update the embeddings in the document store to use the retriever.\n",
    "document_store.update_embeddings(retriever)"
   ],
   "metadata": {
    "collapsed": false,
    "pycharm": {
     "name": "#%%\n"
    }
   }
  },
  {
   "cell_type": "code",
   "execution_count": 18,
   "outputs": [
    {
     "name": "stdout",
     "output_type": "stream",
     "text": [
      "\n",
      "Query: what is the Red Wedding?\n",
      "\n",
      "{   'content': '\"\\'\\'\\'The Rains of Castamere\\'\\'\\'\" is the ninth and '\n",
      "               \"penultimate episode of the third season of HBO's fantasy \"\n",
      "               \"television series ''Game of Thrones'', and the 29th episode of \"\n",
      "               'the series. The episode was written by executive producers '\n",
      "               'David Benioff and D. B. Weiss, and directed by David Nutter. '\n",
      "               'It aired on .\\n'\n",
      "               'The episode is centered on the wedding of Edmure Tully and '\n",
      "               'Roslin Frey, one of the most memorable events of the book '\n",
      "               'series, commonly called \"The Red Wedding\", during which Robb '\n",
      "               'Stark and his banner...',\n",
      "    'meta': {'name': '78_The_Rains_of_Castamere.txt'},\n",
      "    'name': '78_The_Rains_of_Castamere.txt'}\n",
      "\n",
      "{   'content': '\\n'\n",
      "               '===Writing===\\n'\n",
      "               '\"The Rains of Castamere\" was written by executive producers '\n",
      "               \"David Benioff and D. B. Weiss, based on George R. R. Martin's \"\n",
      "               \"original work from his novel ''A Storm of Swords''. The \"\n",
      "               'episode adapts content from chapters 41 to 43 and 50 to 53 '\n",
      "               '(Bran III, Jon V, Daenerys IV, Catelyn VI, Arya X, Catelyn '\n",
      "               'VII, and Arya XI).\\n'\n",
      "               'The episode includes one of the most important plot turns of '\n",
      "               'the series: the betrayal and assassination of the Stark forces '\n",
      "               'during a marriage ceremony in what came to be ...',\n",
      "    'meta': {'name': '78_The_Rains_of_Castamere.txt'},\n",
      "    'name': '78_The_Rains_of_Castamere.txt'}\n",
      "\n"
     ]
    }
   ],
   "source": [
    "from haystack.pipelines import DocumentSearchPipeline\n",
    "from haystack.utils import print_documents\n",
    "\n",
    "# Build and execute the query pipeline.\n",
    "pipeline = DocumentSearchPipeline(retriever)\n",
    "query = \"what is the Red Wedding?\"\n",
    "result = pipeline.run(query, params={\"Retriever\": {\"top_k\": 2}})\n",
    "\n",
    "# View the query results.\n",
    "# You should see a document for \"The Rains of Castamere\", which is the\n",
    "# episode the Red Wedding occurred in, so a very relevant response.\n",
    "print_documents(result, max_text_len=100, print_name=True, print_meta=True)"
   ],
   "metadata": {
    "collapsed": false,
    "pycharm": {
     "name": "#%%\n"
    }
   }
  },
  {
   "cell_type": "markdown",
   "source": [
    "### Add New Documents\n",
    "\n",
    "What happens if you want to add new documents to the document store? To avoid having to rerun the embeddings on all documents you can use the `update_existing_embeddings` parameter when you update the embeddings, which will only update embeddings for documents missing an embedding."
   ],
   "metadata": {
    "collapsed": false,
    "pycharm": {
     "name": "#%% md\n"
    }
   }
  },
  {
   "cell_type": "code",
   "execution_count": null,
   "outputs": [],
   "source": [
    "# Add new documents to the document store.\n",
    "document_store.write(docs[-10:])\n",
    "\n",
    "# Update embeddings for documents without an embedding by setting\n",
    "# `update_existing_embeddings=False`. This should run much faster\n",
    "# since only 10 documents need to be updated.\n",
    "document_store.update_embeddings(\n",
    "    retriever,\n",
    "    update_existing_embeddings=False\n",
    ")"
   ],
   "metadata": {
    "collapsed": false,
    "pycharm": {
     "name": "#%%\n"
    }
   }
  }
 ],
 "metadata": {
  "kernelspec": {
   "display_name": "Python 3",
   "language": "python",
   "name": "python3"
  },
  "language_info": {
   "codemirror_mode": {
    "name": "ipython",
    "version": 2
   },
   "file_extension": ".py",
   "mimetype": "text/x-python",
   "name": "python",
   "nbconvert_exporter": "python",
   "pygments_lexer": "ipython2",
   "version": "2.7.6"
  }
 },
 "nbformat": 4,
 "nbformat_minor": 0
}